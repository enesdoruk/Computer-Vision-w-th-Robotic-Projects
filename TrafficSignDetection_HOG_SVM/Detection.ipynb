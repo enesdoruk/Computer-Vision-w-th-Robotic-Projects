{
 "cells": [
  {
   "cell_type": "code",
   "execution_count": 135,
   "metadata": {},
   "outputs": [],
   "source": [
    "import os\n",
    "import math\n",
    "import cv2\n",
    "import glob\n",
    "import zipfile\n",
    "import scipy\n",
    "import pickle\n",
    "import time\n",
    "import numpy as np\n",
    "import matplotlib.pyplot as plt\n",
    "from skimage.feature import hog\n",
    "from moviepy.editor import VideoFileClip\n",
    "from IPython.display import display, HTML\n",
    "from urllib.request import urlretrieve\n",
    "from sklearn.svm import SVC, LinearSVC\n",
    "from sklearn.preprocessing import StandardScaler\n",
    "from sklearn.model_selection import train_test_split\n",
    "import joblib\n",
    "import imageio"
   ]
  },
  {
   "cell_type": "markdown",
   "metadata": {},
   "source": [
    "## Tools and helper functions"
   ]
  },
  {
   "cell_type": "code",
   "execution_count": 147,
   "metadata": {},
   "outputs": [],
   "source": [
    "def get_output_dir():\n",
    "    output_dir = './output_images'\n",
    "    \n",
    "    if not os.path.isdir(output_dir):\n",
    "        os.mkdir(output_dir)\n",
    "    \n",
    "    return output_dir\n",
    "\n",
    "def get_classifier_path():\n",
    "    return './classifier.pickle'\n",
    "\n",
    "def save_plt_img(fig_handle, fname):\n",
    "    plt.figure(fig_handle.number)\n",
    "    plt.savefig(os.path.join(get_output_dir(), fname + '.jpg'))\n",
    "    \n",
    "def save_cv_img(img, fname):\n",
    "        print(\"z\")\n",
    "        \n",
    "def read_img(fname):\n",
    "    return imageio.imread(fname)\n",
    "\n",
    "def display_img(img, title):\n",
    "    if len(img.shape) == 2:\n",
    "        plt.imshow(img, cmap='gray')\n",
    "    else:\n",
    "        plt.imshow(img)\n",
    "    \n",
    "    plt.axis('off')\n",
    "    plt.title(title)\n",
    "    \n",
    "def use_debug():\n",
    "    return True"
   ]
  },
  {
   "cell_type": "markdown",
   "metadata": {},
   "source": [
    "## Data loading"
   ]
  },
  {
   "cell_type": "code",
   "execution_count": 44,
   "metadata": {},
   "outputs": [
    {
     "name": "stdout",
     "output_type": "stream",
     "text": [
      "Loading datasets...\n",
      "Done...\n"
     ]
    }
   ],
   "source": [
    "def get_img_shape():\n",
    "    return (40, 40, 3)\n",
    "\n",
    "def get_dur_label():\n",
    "    return 0\n",
    "\n",
    "def get_ilerle_label():\n",
    "    return 1\n",
    "\n",
    "def get_saga_label():\n",
    "    return 2\n",
    "\n",
    "def get_sola_label():\n",
    "    return 3\n",
    "\n",
    "def get_yaya_label():\n",
    "    return 4\n",
    "\n",
    "def load_dataset(class_base_folder, class_id):\n",
    "    f_names = glob.glob(class_base_folder + '*.jpg')\n",
    "    \n",
    "    n_img = len(f_names)\n",
    "    X = np.zeros((n_img,) + get_img_shape(), dtype = np.uint8)\n",
    "    y = np.zeros((n_img,), dtype = int)\n",
    "    \n",
    "    for i in range(n_img):\n",
    "        X[i] = read_img(f_names[i])\n",
    "        y[i] = class_id\n",
    "        \n",
    "    return X, y\n",
    "\n",
    "print('Loading datasets...')\n",
    "Img_dur, y_dur = load_dataset('data/dur/', get_dur_label())\n",
    "Img_ilerle, y_ilerle = load_dataset('data/ilerle/', get_ilerle_label())\n",
    "Img_saga, y_saga = load_dataset('data/saga/', get_saga_label())\n",
    "Img_sola, y_sola = load_dataset('data/sola/', get_sola_label())\n",
    "Img_yaya, y_yaya = load_dataset('data/yaya/', get_yaya_label())\n",
    "print('Done...')"
   ]
  },
  {
   "cell_type": "code",
   "execution_count": 45,
   "metadata": {},
   "outputs": [
    {
     "name": "stdout",
     "output_type": "stream",
     "text": [
      "dur training data:  (780, 40, 40, 3) (780,)\n",
      "ilerle training data:  (1200, 40, 40, 3) (1200,)\n",
      "sola training data:  (420, 40, 40, 3) (420,)\n",
      "saga training data:  (689, 40, 40, 3) (689,)\n",
      "yaya training data:  (240, 40, 40, 3) (240,)\n",
      "Combined dataset:  (3329, 40, 40, 3) (3329,)\n"
     ]
    }
   ],
   "source": [
    "print('dur training data: ', Img_dur.shape, y_dur.shape)\n",
    "print('ilerle training data: ', Img_ilerle.shape, y_ilerle.shape)\n",
    "print('sola training data: ', Img_sola.shape, y_sola.shape)\n",
    "print('saga training data: ', Img_saga.shape, y_saga.shape)\n",
    "print('yaya training data: ', Img_yaya.shape, y_yaya.shape)\n",
    "\n",
    "Img = np.concatenate((Img_dur, Img_ilerle, Img_sola, Img_saga, Img_yaya))\n",
    "y = np.concatenate((y_dur, y_ilerle, y_sola, y_saga, y_yaya))\n",
    "\n",
    "print('Combined dataset: ', Img.shape, y.shape)"
   ]
  },
  {
   "cell_type": "code",
   "execution_count": 46,
   "metadata": {},
   "outputs": [
    {
     "data": {
      "image/png": "[encoded data removed]",
      "text/plain": [
       "<Figure size 432x288 with 2 Axes>"
      ]
     },
     "metadata": {
      "needs_background": "light"
     },
     "output_type": "display_data"
    }
   ],
   "source": [
    "h = plt.figure()\n",
    "plt.subplot(1,2,1);\n",
    "display_img(Img_dur[0], 'dur')\n",
    "plt.subplot(1,2,2);\n",
    "display_img(Img_ilerle[0], 'ilerle')\n",
    "\n",
    "save_plt_img(fig_handle=h, fname='dur_ilerle_vehicle')"
   ]
  },
  {
   "cell_type": "markdown",
   "metadata": {},
   "source": [
    "## Data augmentation\n"
   ]
  },
  {
   "cell_type": "code",
   "execution_count": 47,
   "metadata": {},
   "outputs": [
    {
     "name": "stdout",
     "output_type": "stream",
     "text": [
      "Before data augmentation:  (3329, 40, 40, 3) (3329,)\n",
      "After data augmentation:  (3329, 40, 40, 3) (3329,)\n"
     ]
    }
   ],
   "source": [
    "def random_translation(img):\n",
    "    rows = img.shape[0]\n",
    "    cols = img.shape[1]\n",
    "    \n",
    "    delta_x_max = cols//2\n",
    "    delta_y_max = rows//2\n",
    "    \n",
    "    tr_x = np.random.uniform(-delta_x_max, delta_x_max)\n",
    "    tr_y = np.random.uniform(-delta_y_max, delta_y_max)\n",
    "\n",
    "    M = np.float32([[1,0,tr_x],[0,1,tr_y]])\n",
    "    img_out = cv2.warpAffine(img,M,(cols,rows))\n",
    "    \n",
    "    return img_out\n",
    "\n",
    "def augment_image(img):\n",
    "    return random_translation(img)\n",
    "    \n",
    "def augment_data(Img, y):\n",
    "    augmentation_factor = 2\n",
    "    \n",
    "    Img_extra = []\n",
    "    y_extra = []\n",
    "    \n",
    "    for i in range(len(y)):\n",
    "        for j in range(augmentation_factor):\n",
    "            Img_extra.append(augment_image(Img[i]))\n",
    "            y_extra.append(y[i])\n",
    "    \n",
    "    Img_extra = np.array(Img_extra)\n",
    "    y_extra = np.array(y_extra)\n",
    "    \n",
    "    Img = np.concatenate((Img, Img_extra))\n",
    "    y = np.concatenate((y, y_extra))\n",
    "    \n",
    "    return Img, y\n",
    "\n",
    "print('Before data augmentation: ', Img.shape, y.shape)\n",
    "print('After data augmentation: ', Img.shape, y.shape)"
   ]
  },
  {
   "cell_type": "markdown",
   "metadata": {},
   "source": [
    "## Data preprocessing"
   ]
  },
  {
   "cell_type": "code",
   "execution_count": 115,
   "metadata": {},
   "outputs": [],
   "source": [
    "def rgb_to_ycrcb(img):\n",
    "    return cv2.cvtColor(img, cv2.COLOR_RGB2YCrCb)\n",
    "\n",
    "def preprocess_img(Img):\n",
    "    Img_out = np.copy(Img)\n",
    "    \n",
    "    if len(Img.shape) == 3:\n",
    "        Img_out = rgb_to_ycrcb(Img)\n",
    "    else:\n",
    "        for i in range(Img.shape[0]):\n",
    "            Img_out[i] = cv2.cvtColor(Img[i], cv2.COLOR_RGB2YCrCb)\n",
    "    \n",
    "    return Img_out\n",
    "\n",
    "Img_dur_pp = preprocess_img(Img_dur)\n",
    "Img_ilerle_pp = preprocess_img(Img_ilerle)\n",
    "Img_sola_pp = preprocess_img(Img_sola)\n",
    "Img_saga_pp = preprocess_img(Img_saga)\n",
    "Img_yaya_pp = preprocess_img(Img_yaya)\n",
    "Img_pp = preprocess_img(Img)"
   ]
  },
  {
   "cell_type": "markdown",
   "metadata": {},
   "source": [
    "## HOG feature extraction"
   ]
  },
  {
   "cell_type": "code",
   "execution_count": 116,
   "metadata": {},
   "outputs": [],
   "source": [
    "def get_pixels_per_cell():\n",
    "    return 8\n",
    "\n",
    "def get_hog_features(img, debug=False):\n",
    "    pix_per_cell = get_pixels_per_cell()\n",
    "    cell_per_block = 2\n",
    "    orient = 9\n",
    "\n",
    "    img_shape = img.shape\n",
    "    n_channels = img_shape[2]\n",
    "    \n",
    "    features = []\n",
    "    hog_image = np.zeros_like(img)\n",
    "    \n",
    "    for i in range(n_channels):\n",
    "        if debug:\n",
    "            features_i, hog_image[:, :, i] = hog(img[:, :, i], orientations=orient, \n",
    "                                                 pixels_per_cell=(pix_per_cell, pix_per_cell),\n",
    "                                                 cells_per_block=(cell_per_block, cell_per_block),\n",
    "                                                 visualize=debug, feature_vector=False)\n",
    "        else:\n",
    "            features_i = hog(img[:, :, i], orientations=orient, \n",
    "                             pixels_per_cell=(pix_per_cell, pix_per_cell),\n",
    "                             cells_per_block=(cell_per_block, cell_per_block),\n",
    "                             visualize=debug, feature_vector=False)\n",
    "       \n",
    "        features.append(features_i)\n",
    "\n",
    "    features = np.stack(features, axis=-1)\n",
    "        \n",
    "    if debug:        \n",
    "        return features, hog_image\n",
    "    else:\n",
    "        return features"
   ]
  },
  {
   "cell_type": "code",
   "execution_count": 117,
   "metadata": {},
   "outputs": [
    {
     "data": {
      "image/png": "[encoded data removed]",
      "text/plain": [
       "<Figure size 432x288 with 6 Axes>"
      ]
     },
     "metadata": {
      "needs_background": "light"
     },
     "output_type": "display_data"
    },
    {
     "data": {
      "image/png": "[encoded data removed]",
      "text/plain": [
       "<Figure size 432x288 with 6 Axes>"
      ]
     },
     "metadata": {
      "needs_background": "light"
     },
     "output_type": "display_data"
    }
   ],
   "source": [
    "def test_hog_features():\n",
    "    img_dur = Img_dur_pp[0]\n",
    "    img_ilerle = Img_ilerle_pp[0]\n",
    "    img_sola = Img_sola_pp[0]\n",
    "    img_saga = Img_saga_pp[0]\n",
    "    img_yaya = Img_yaya_pp[0]\n",
    "\n",
    "    features_dur, hog_image_dur = get_hog_features(img_dur, debug=True)\n",
    "    features_ilerle, hog_image_ilerle = get_hog_features(img_ilerle, debug=True)\n",
    "    features_sola, hog_image_sola = get_hog_features(img_sola, debug=True)\n",
    "    features_saga, hog_image_saga = get_hog_features(img_saga, debug=True)\n",
    "    features_yaya, hog_image_yaya = get_hog_features(img_yaya, debug=True)\n",
    "    \n",
    "    h = plt.figure()\n",
    "    img_labels = ['Y', 'Cr', 'Cb']\n",
    "\n",
    "    for idx in range(3):\n",
    "        plt.subplot(2,3, idx + 3 * 0 + 1);\n",
    "        display_img(img_dur[:, :, idx], img_labels[idx])\n",
    "\n",
    "    for idx in range(3):\n",
    "        plt.subplot(2,3, idx + 3 * 1 + 1);\n",
    "        display_img(hog_image_dur[:, :, idx], img_labels[idx] + '-hog')\n",
    "        \n",
    "    save_plt_img(fig_handle=h, fname='hog_img_vehicle')\n",
    "        \n",
    "    h = plt.figure()\n",
    "    for idx in range(3):\n",
    "        plt.subplot(2,3, idx + 3 * 0 + 1);\n",
    "        display_img(img_ilerle[:, :, idx], img_labels[idx])\n",
    "        \n",
    "    for idx in range(3):\n",
    "        plt.subplot(2,3, idx + 3 * 1 + 1);\n",
    "        display_img(hog_image_ilerle[:, :, idx], img_labels[idx] + '-hog')\n",
    "        \n",
    "    save_plt_img(fig_handle=h, fname='hog_img_non_vehicle')        \n",
    "\n",
    "test_hog_features()"
   ]
  },
  {
   "cell_type": "markdown",
   "metadata": {},
   "source": [
    "## HOG Feature extraction from whole image"
   ]
  },
  {
   "cell_type": "code",
   "execution_count": 118,
   "metadata": {},
   "outputs": [],
   "source": [
    "class SearchWindow:\n",
    "    \n",
    "    def __init__(self, x0, y0, size_x, size_y):\n",
    "        self.x0 = x0\n",
    "        self.y0 = y0\n",
    "        self.size_x = size_x\n",
    "        self.size_y = size_y  \n",
    "        \n",
    "    def get_img_contents(self, img):\n",
    "        return img[self.y0 : self.y0 + self.size_y, \n",
    "                   self.x0 : self.x0 + self.size_x]\n",
    "    \n",
    "    def resize(self, scale):\n",
    "        self.x0 = int(self.x0 / scale)\n",
    "        self.y0 = int(self.y0 / scale)\n",
    "        self.size_x = int(self.size_x / scale)\n",
    "        self.size_y = int(self.size_y / scale)\n",
    "    \n",
    "    def draw_on_img(self, img, color=(0,0,255), thickness=2):\n",
    "        p1 = (self.x0,               self.y0)\n",
    "        p2 = (self.x0,               self.y0 + self.size_y)\n",
    "        p3 = (self.x0 + self.size_x, self.y0 + self.size_y)\n",
    "        p4 = (self.x0 + self.size_x, self.y0)\n",
    "        \n",
    "        p = (p1, p2, p3, p4)\n",
    "        \n",
    "        for i in range(4):\n",
    "            cv2.line(img, p[i], p[(i+1) % 4], color=color, thickness=thickness)"
   ]
  },
  {
   "cell_type": "code",
   "execution_count": 119,
   "metadata": {},
   "outputs": [
    {
     "data": {
      "image/png": "[encoded data removed]",
      "text/plain": [
       "<Figure size 432x288 with 2 Axes>"
      ]
     },
     "metadata": {
      "needs_background": "light"
     },
     "output_type": "display_data"
    }
   ],
   "source": [
    "def test_get_img_contents():\n",
    "    img = read_img('test1.jpg')\n",
    "    window = SearchWindow(80,90,80,80)\n",
    "    display_img(window.get_img_contents(img), 'Contents of search window')\n",
    "    \n",
    "def test_draw_on_img():\n",
    "    img = read_img('test1.jpg')\n",
    "    window = SearchWindow(80,90,80,80)\n",
    "    window.draw_on_img(img, color = (255,0,0), thickness=5)\n",
    "    display_img(img, 'Drawn bounding box')\n",
    "\n",
    "plt.figure();\n",
    "plt.subplot(1,2,1)\n",
    "test_draw_on_img()    \n",
    "plt.subplot(1,2,2)\n",
    "test_get_img_contents()"
   ]
  },
  {
   "cell_type": "code",
   "execution_count": 120,
   "metadata": {},
   "outputs": [],
   "source": [
    "def get_hog_features_on_window(hog_features_from_global_img, window, pixels_per_cell):\n",
    "   \n",
    "    block_idx_x_start = window.x0 // pixels_per_cell \n",
    "    block_idx_y_start = window.y0 // pixels_per_cell\n",
    "\n",
    "    block_idx_x_end = block_idx_x_start + window.size_x // pixels_per_cell - 1\n",
    "    block_idx_y_end = block_idx_y_start + window.size_y // pixels_per_cell - 1\n",
    "\n",
    "    return hog_features_from_global_img[block_idx_y_start : block_idx_y_end,\n",
    "                                        block_idx_x_start : block_idx_x_end]"
   ]
  },
  {
   "cell_type": "code",
   "execution_count": 121,
   "metadata": {},
   "outputs": [
    {
     "name": "stdout",
     "output_type": "stream",
     "text": [
      "(21, 33, 2, 2, 9, 3)\n",
      "(7, 7, 2, 2, 9, 3)\n",
      "(7, 7, 2, 2, 9, 3)\n",
      "Test passed!\n"
     ]
    },
    {
     "data": {
      "image/png": "[encoded data removed]",
      "text/plain": [
       "<Figure size 432x288 with 3 Axes>"
      ]
     },
     "metadata": {
      "needs_background": "light"
     },
     "output_type": "display_data"
    }
   ],
   "source": [
    "def test_hog_features_window():\n",
    "    img = preprocess_img(read_img('test1.jpg'))\n",
    "    img2 = np.copy(img)\n",
    "    \n",
    "    x0 = 80\n",
    "    y0 = 90\n",
    "    pixels_per_cell = get_pixels_per_cell()\n",
    "    window = SearchWindow(x0, y0, 64, 64)\n",
    "    \n",
    "    sub_img = window.get_img_contents(img)\n",
    "    features_sub_image, debug1 = get_hog_features(sub_img, debug=True)\n",
    "    \n",
    "    hog_features_whole_image, debug2 = get_hog_features(img2, debug=True)\n",
    "    print(hog_features_whole_image.shape)\n",
    "    features_sub_hog = get_hog_features_on_window(hog_features_whole_image, window, pixels_per_cell=pixels_per_cell)\n",
    "    \n",
    "    print(features_sub_image.shape)\n",
    "    print(features_sub_hog.shape)\n",
    "    \n",
    "    plt.figure()\n",
    "    plt.subplot(1,3,1)\n",
    "    plt.title('HOG on 64x64 image')    \n",
    "    plt.imshow(debug1[:, :, 0])\n",
    "    plt.subplot(1,3,2)\n",
    "    plt.title('HOG on 720x1280 image, take 64x64 window')\n",
    "    plt.imshow(debug2[y0:y0+64,x0:x0+64, 0])\n",
    "        \n",
    "    plt.subplot(1,3,3)\n",
    "    plt.imshow(debug1[:,:,0] - debug2[y0:y0+64,x0:x0+64, 0])\n",
    "    plt.title('Difference')\n",
    "        \n",
    "    assert(features_sub_image.shape == features_sub_hog.shape)\n",
    "   \n",
    "    n_blocks = 64 // pixels_per_cell - 1\n",
    "    \n",
    "    print('Test passed!')\n",
    "    \n",
    "test_hog_features_window()"
   ]
  },
  {
   "cell_type": "markdown",
   "metadata": {},
   "source": [
    "## Color histogram features"
   ]
  },
  {
   "cell_type": "code",
   "execution_count": 122,
   "metadata": {},
   "outputs": [],
   "source": [
    "def color_hist_features(img):\n",
    "    nbins = 32\n",
    "    bins_range = (0, 256)\n",
    "    \n",
    "    channel1_hist = np.histogram(img[:,:,0], bins=nbins, range=bins_range)\n",
    "    channel2_hist = np.histogram(img[:,:,1], bins=nbins, range=bins_range)\n",
    "    channel3_hist = np.histogram(img[:,:,2], bins=nbins, range=bins_range)\n",
    "    \n",
    "    hist_features = np.concatenate((channel1_hist[0], channel2_hist[0], channel3_hist[0]))\n",
    "    \n",
    "    return hist_features"
   ]
  },
  {
   "cell_type": "markdown",
   "metadata": {},
   "source": [
    "## Spatial binning features"
   ]
  },
  {
   "cell_type": "code",
   "execution_count": 123,
   "metadata": {},
   "outputs": [],
   "source": [
    "def bin_spatial(img):\n",
    "    size = (16, 16)\n",
    "    return cv2.resize(img, size).ravel()"
   ]
  },
  {
   "cell_type": "code",
   "execution_count": 124,
   "metadata": {},
   "outputs": [],
   "source": [
    "def combine_features(bin_spatial_feat, color_hist_feat, hog_feat):\n",
    "    features = []\n",
    "    \n",
    "    features.append(bin_spatial_feat)\n",
    "    features.append(color_hist_feat)\n",
    "    features.append(hog_feat.ravel())\n",
    "    \n",
    "    return np.array(np.concatenate(features))\n",
    "    \n",
    "def get_features(img):\n",
    "    bin_spatial_feat = bin_spatial(img)\n",
    "    color_hist_feat = color_hist_features(img)\n",
    "    hog_feat = get_hog_features(img)\n",
    "    \n",
    "    return combine_features(bin_spatial_feat, color_hist_feat, hog_feat)\n",
    "    \n",
    "def get_features_batch(Img):\n",
    "    features = []\n",
    "    for i in range(Img.shape[0]):\n",
    "        features.append(get_features(Img[i]))\n",
    "    return np.array(features)"
   ]
  },
  {
   "cell_type": "code",
   "execution_count": 125,
   "metadata": {},
   "outputs": [
    {
     "name": "stdout",
     "output_type": "stream",
     "text": [
      "Computing features for the entire dataset...\n",
      "Saving features into features.pickle...\n",
      "Done\n",
      "(3329, 2592)\n"
     ]
    }
   ],
   "source": [
    "features_file = 'features.pickle'\n",
    "\n",
    "if not os.path.exists(features_file):\n",
    "    print('Computing features for the entire dataset...')\n",
    "    X = get_features_batch(Img_pp)\n",
    "    print('Saving features into ' + features_file + '...')\n",
    "    pickle.dump(X, open(features_file, 'wb'))\n",
    "    print('Done')\n",
    "else:\n",
    "    print('Loading features from ' + features_file + '...')\n",
    "    X = pickle.load(open(features_file, 'rb'))\n",
    "    print('Done')\n",
    "    \n",
    "X = X.astype(np.float64)\n",
    "print(X.shape)"
   ]
  },
  {
   "cell_type": "markdown",
   "metadata": {},
   "source": [
    "## Dataset preparation"
   ]
  },
  {
   "cell_type": "code",
   "execution_count": 126,
   "metadata": {},
   "outputs": [],
   "source": [
    "def create_scaler(X):\n",
    "    scaler = StandardScaler().fit(X)\n",
    "    return scaler\n",
    "\n",
    "scaler_ = create_scaler(X)"
   ]
  },
  {
   "cell_type": "code",
   "execution_count": 127,
   "metadata": {},
   "outputs": [
    {
     "name": "stdout",
     "output_type": "stream",
     "text": [
      "Normalizing features...\n",
      "Done\n"
     ]
    }
   ],
   "source": [
    "def normalize_features(X):\n",
    "    return scaler_.transform(X)    \n",
    "\n",
    "print('Normalizing features...')\n",
    "X_norm = normalize_features(X)\n",
    "print('Done')"
   ]
  },
  {
   "cell_type": "code",
   "execution_count": 128,
   "metadata": {},
   "outputs": [
    {
     "name": "stdout",
     "output_type": "stream",
     "text": [
      "Splitting into train/validation set...\n",
      "X_train:  (2663, 2592)\n",
      "X_val:  (666, 2592)\n"
     ]
    }
   ],
   "source": [
    "def split_validation(X, y):\n",
    "    val_ratio = 0.2\n",
    "    random_state = 918273645\n",
    "    return train_test_split(X, y, test_size = val_ratio, random_state = random_state)\n",
    "\n",
    "print('Splitting into train/validation set...')\n",
    "X_train, X_val, y_train, y_val = split_validation(X_norm, y)\n",
    "\n",
    "print('X_train: ', X_train.shape)\n",
    "print('X_val: ', X_val.shape)"
   ]
  },
  {
   "cell_type": "markdown",
   "metadata": {},
   "source": [
    "## Classifier Design"
   ]
  },
  {
   "cell_type": "code",
   "execution_count": 129,
   "metadata": {},
   "outputs": [],
   "source": [
    "def define_classifier():\n",
    "    kernel='rbf'\n",
    "    classifier = LinearSVC(C = 0.001) \n",
    "    return classifier"
   ]
  },
  {
   "cell_type": "markdown",
   "metadata": {},
   "source": [
    "## Training"
   ]
  },
  {
   "cell_type": "code",
   "execution_count": 130,
   "metadata": {},
   "outputs": [],
   "source": [
    "def train_classifier(classifier, X_train, y_train):\n",
    "    classifier.fit(X_train, y_train)"
   ]
  },
  {
   "cell_type": "code",
   "execution_count": 131,
   "metadata": {},
   "outputs": [],
   "source": [
    "def save_classifier(classifier, path):\n",
    "    joblib.dump(classifier, path)"
   ]
  },
  {
   "cell_type": "code",
   "execution_count": 132,
   "metadata": {},
   "outputs": [],
   "source": [
    "def load_classifier(path):\n",
    "    return joblib.load(path)"
   ]
  },
  {
   "cell_type": "code",
   "execution_count": 136,
   "metadata": {},
   "outputs": [
    {
     "name": "stdout",
     "output_type": "stream",
     "text": [
      "Training classifier...\n",
      "Done in 2.333 s\n"
     ]
    }
   ],
   "source": [
    "if not os.path.exists(get_classifier_path()):\n",
    "    classifier_ = define_classifier()\n",
    "    \n",
    "    print('Training classifier...')\n",
    "    t = time.time()\n",
    "    train_classifier(classifier_, X_train, y_train)\n",
    "    print('Done in %.3f s' % (time.time() - t))\n",
    "    \n",
    "    save_classifier(classifier_, get_classifier_path())\n",
    "else:\n",
    "    print('Loading classifier...')\n",
    "    classifier_ = load_classifier(get_classifier_path())\n",
    "    print('Done')"
   ]
  },
  {
   "cell_type": "markdown",
   "metadata": {},
   "source": [
    "## Cross-validation"
   ]
  },
  {
   "cell_type": "code",
   "execution_count": 137,
   "metadata": {},
   "outputs": [
    {
     "name": "stdout",
     "output_type": "stream",
     "text": [
      "Validation accuracy: 100.000%\n"
     ]
    }
   ],
   "source": [
    "def compute_validation_accuracy(classifier, X_val, y_val):\n",
    "    return classifier.score(X_val, y_val)\n",
    "    \n",
    "print('Validation accuracy: %.3f%%' % (100. * compute_validation_accuracy(classifier_, X_val, y_val)))"
   ]
  },
  {
   "cell_type": "code",
   "execution_count": 140,
   "metadata": {},
   "outputs": [],
   "source": [
    "def predict(x):\n",
    "    v = classifier_.decision_function(x)\n",
    "    "
   ]
  },
  {
   "cell_type": "code",
   "execution_count": 141,
   "metadata": {},
   "outputs": [],
   "source": [
    "def classify_img(img):\n",
    "    img = preprocess_img(img)\n",
    "    \n",
    "    x = get_features(img)\n",
    "    x = normalize_features(x)\n",
    "    \n",
    "    return predict(x)"
   ]
  },
  {
   "cell_type": "markdown",
   "metadata": {},
   "source": [
    "## Sliding Window Search"
   ]
  },
  {
   "cell_type": "code",
   "execution_count": 152,
   "metadata": {},
   "outputs": [],
   "source": [
    "def get_search_windows(img_shape):\n",
    "    x_start = 0\n",
    "    y_start = img_shape[0] // 2\n",
    "    x_end = img_shape[1]\n",
    "    y_end = img_shape[0]\n",
    "    \n",
    "    size = 36\n",
    "    overlap = 0.75    \n",
    "\n",
    "    bboxes_out = []\n",
    "    step = int((1.0 - overlap) * size) \n",
    "\n",
    "    for y in range(y_start, y_end - size, step):\n",
    "        for x in range(x_start, x_end - size, step):                \n",
    "            box = SearchWindow(x, y, size, size)\n",
    "            bboxes_out.append(box)\n",
    "        \n",
    "    return bboxes_out"
   ]
  },
  {
   "cell_type": "code",
   "execution_count": 153,
   "metadata": {},
   "outputs": [],
   "source": [
    "def draw_search_windows(img, windows, color, thickness):\n",
    "    for w in windows:\n",
    "        w.draw_on_img(img, color, thickness)"
   ]
  },
  {
   "cell_type": "code",
   "execution_count": 154,
   "metadata": {},
   "outputs": [
    {
     "name": "stdout",
     "output_type": "stream",
     "text": [
      "Obtained 189 boxes\n",
      "z\n"
     ]
    },
    {
     "data": {
      "image/png": "[encoded data removed]",
      "text/plain": [
       "<Figure size 432x288 with 1 Axes>"
      ]
     },
     "metadata": {
      "needs_background": "light"
     },
     "output_type": "display_data"
    }
   ],
   "source": [
    "def test_bboxes():\n",
    "    img = read_img('test1.jpg')\n",
    "    bboxes = get_search_windows(img.shape)\n",
    "    print('Obtained %d boxes' % len(bboxes))\n",
    "    draw_search_windows(img, bboxes, color=(255,0,0), thickness=2)\n",
    "    plt.imshow(img)\n",
    "    save_cv_img(fname= 'search_boxes', img=img)\n",
    "    \n",
    "test_bboxes()"
   ]
  },
  {
   "cell_type": "markdown",
   "metadata": {},
   "source": [
    "## Heat map"
   ]
  },
  {
   "cell_type": "code",
   "execution_count": 155,
   "metadata": {},
   "outputs": [
    {
     "data": {
      "image/png": "[encoded data removed]",
      "text/plain": [
       "<Figure size 432x288 with 1 Axes>"
      ]
     },
     "metadata": {
      "needs_background": "light"
     },
     "output_type": "display_data"
    }
   ],
   "source": [
    "def create_heatmap(shape):\n",
    "    return np.zeros(shape, dtype = np.uint8)\n",
    "    \n",
    "def add_heat(heatmap, boxes):\n",
    "    for box in boxes:\n",
    "        x_start = box.x0\n",
    "        x_end = x_start + box.size_x\n",
    "        y_start = box.y0\n",
    "        y_end = y_start + box.size_y\n",
    "\n",
    "        heatmap[y_start:y_end, x_start:x_end] += 1\n",
    "\n",
    "\n",
    "def extract_boxes_from_heatmap(heatmap, threshold):\n",
    "    heatmap_thresh = np.zeros_like(heatmap)\n",
    "    heatmap_thresh[heatmap > threshold] = 255\n",
    "\n",
    "    _, contours, _ = cv2.findContours(heatmap_thresh.copy(), mode = cv2.RETR_LIST,\n",
    "                                      method = cv2.CHAIN_APPROX_SIMPLE)\n",
    "    vehicles_out = []\n",
    "    for contour in contours:\n",
    "        (x0, y0, size_x, size_y) = cv2.boundingRect(contour)            \n",
    "        vehicles_out.append(SearchWindow(x0, y0, size_x, size_y))\n",
    "\n",
    "    return vehicles_out, heatmap_thresh\n",
    "    \n",
    "def normalize(x, new_max):\n",
    "    d_min = float(np.amin(x))\n",
    "    d_max = float(np.amax(x))\n",
    "\n",
    "    return (((x - d_min) / (d_max - d_min)) * new_max).astype(x.dtype)\n",
    "\n",
    "def test_update_heat_map():\n",
    "    heatmap = create_heatmap((480,640))\n",
    "    \n",
    "    boxes = []\n",
    "    boxes.append(SearchWindow(100,100,100,100))\n",
    "    boxes.append(SearchWindow(150, 150, 100,100))\n",
    "    boxes.append(SearchWindow(160, 160, 100,100))\n",
    "    boxes.append(SearchWindow(175, 175, 100,100))\n",
    "    boxes.append(SearchWindow(185, 185, 100,100))\n",
    "        \n",
    "    add_heat(heatmap, boxes)\n",
    "    \n",
    "    h = plt.figure()\n",
    "    plt.imshow(heatmap.data, cmap='gist_heat')\n",
    "    plt.title('Heatmap after boxes')\n",
    "    \n",
    "test_update_heat_map()"
   ]
  },
  {
   "cell_type": "markdown",
   "metadata": {},
   "source": [
    "## Single Image pipeline"
   ]
  },
  {
   "cell_type": "code",
   "execution_count": 156,
   "metadata": {},
   "outputs": [],
   "source": [
    "class SingleImagePipeline:\n",
    "    def __init__(self, debug = False):\n",
    "        self.debug = debug\n",
    "        self.pixels_per_cell = get_pixels_per_cell()\n",
    "        self.scales = [1.0, 0.75, 0.5]\n",
    "        self.threshold = 2\n",
    "    def run(self, img):\n",
    "        heatmap = create_heatmap(img.shape[0:2])\n",
    "\n",
    "        img_pp = preprocess_img(img)\n",
    "        \n",
    "        for scale in self.scales:\n",
    "            img_s = cv2.resize(img_pp, dsize = (0,0), fx = scale, fy = scale)\n",
    "            \n",
    "            img_hog_features = get_hog_features(img_s)\n",
    "\n",
    "            search_windows = get_search_windows(img_s.shape)\n",
    "\n",
    "        \n",
    "        if self.debug:\n",
    "            plt.figure()\n",
    "            plt.imshow(heatmap, cmap='gist_heat')\n",
    "                    \n",
    "            return img\n",
    "        else:\n",
    "            return heatmap"
   ]
  },
  {
   "cell_type": "markdown",
   "metadata": {},
   "source": [
    "## Test on images"
   ]
  },
  {
   "cell_type": "code",
   "execution_count": null,
   "metadata": {},
   "outputs": [],
   "source": [
    "test_images = glob.glob('test1.jpg')\n",
    "\n",
    "for img_path in test_images:\n",
    "    _,img_name = os.path.split(img_path)\n",
    "    \n",
    "    img = read_img(img_path)\n",
    "    \n",
    "    pipeline = SingleImagePipeline(debug = True)\n",
    "    \n",
    "    t = time.time()\n",
    "    img_out = pipeline.run(img)\n",
    "    print('Time for complete image: %.3f s' % (time.time() - t))\n",
    "    \n",
    "    plt.figure();\n",
    "    display_img(img_out, img_name);\n",
    "    "
   ]
  }
 ],
 "metadata": {
  "kernelspec": {
   "display_name": "Python 3",
   "language": "python",
   "name": "python3"
  },
  "language_info": {
   "codemirror_mode": {
    "name": "ipython",
    "version": 3
   },
   "file_extension": ".py",
   "mimetype": "text/x-python",
   "name": "python",
   "nbconvert_exporter": "python",
   "pygments_lexer": "ipython3",
   "version": "3.7.4"
  }
 },
 "nbformat": 4,
 "nbformat_minor": 4
}
