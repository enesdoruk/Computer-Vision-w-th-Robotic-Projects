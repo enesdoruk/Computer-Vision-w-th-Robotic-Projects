{
 "cells": [
  {
   "cell_type": "code",
   "execution_count": 1,
   "metadata": {},
   "outputs": [],
   "source": [
    "import os \n",
    "from PIL import Image"
   ]
  },
  {
   "cell_type": "code",
   "execution_count": 3,
   "metadata": {},
   "outputs": [],
   "source": [
    "dirs1 = os.listdir(\"C:/Users/ENES DORUK/Desktop/dataset/data\")\n",
    "\n"
   ]
  },
  {
   "cell_type": "code",
   "execution_count": 4,
   "metadata": {},
   "outputs": [],
   "source": [
    "for j in range(len(dirs1)):\n",
    "    images_dir = os.listdir(\"C:/Users/ENES DORUK/Desktop/dataset/data/{}\".format(dirs1[j]))\n",
    "    for i in range(len(images_dir)):\n",
    "        im = Image.open(\"C:/Users/ENES DORUK/Desktop/dataset/data/{}/{}\".format(dirs1[j],images_dir[i]))\n",
    "        im = im.resize((40,40))\n",
    "        im.save(\"C:/Users/ENES DORUK/Desktop/dataset/data/{}/{}.jpg\".format(dirs1[j],i))"
   ]
  },
  {
   "cell_type": "code",
   "execution_count": null,
   "metadata": {},
   "outputs": [],
   "source": []
  }
 ],
 "metadata": {
  "kernelspec": {
   "display_name": "Python 3",
   "language": "python",
   "name": "python3"
  },
  "language_info": {
   "codemirror_mode": {
    "name": "ipython",
    "version": 3
   },
   "file_extension": ".py",
   "mimetype": "text/x-python",
   "name": "python",
   "nbconvert_exporter": "python",
   "pygments_lexer": "ipython3",
   "version": "3.7.4"
  }
 },
 "nbformat": 4,
 "nbformat_minor": 4
}
